{
 "cells": [
  {
   "cell_type": "markdown",
   "id": "247336b4-7933-4a43-a374-fcd33aa628b3",
   "metadata": {},
   "source": [
    "# Creation Of Array (1D,2D and Multidimennsional array)"
   ]
  },
  {
   "cell_type": "code",
   "execution_count": 1,
   "id": "34dbf3fe-9dba-407a-b18e-7526878cfbcc",
   "metadata": {},
   "outputs": [],
   "source": [
    "#Exp no.:5"
   ]
  },
  {
   "cell_type": "code",
   "execution_count": 2,
   "id": "85dcd610-6fd7-4a98-a6a3-787df5ff1d29",
   "metadata": {},
   "outputs": [],
   "source": [
    "#Aim : Creation of Array (1D,2D and Multidimennsional array) using numpy"
   ]
  },
  {
   "cell_type": "code",
   "execution_count": 3,
   "id": "ef705974-4d29-41a7-a738-668b713f02ff",
   "metadata": {},
   "outputs": [],
   "source": [
    "#Name:Yogesh Suresh Mamankar\n",
    "#Roll No:37\n",
    "#Sec:B\n",
    "#Subject:ET1\n",
    "#Date:21/08/2025"
   ]
  },
  {
   "cell_type": "code",
   "execution_count": 4,
   "id": "f6f1ef72-0ce5-43fe-bc1d-cc1ea1f6835b",
   "metadata": {},
   "outputs": [],
   "source": [
    "import numpy as np"
   ]
  },
  {
   "cell_type": "code",
   "execution_count": 5,
   "id": "774fba6c-f669-4882-a5d2-81f60c455502",
   "metadata": {},
   "outputs": [],
   "source": [
    "arr1=np.array([10,20,30,40,50])"
   ]
  },
  {
   "cell_type": "code",
   "execution_count": 6,
   "id": "db410a00-867c-438c-b642-23d7ee927c14",
   "metadata": {},
   "outputs": [
    {
     "data": {
      "text/plain": [
       "array([10, 20, 30, 40, 50])"
      ]
     },
     "execution_count": 6,
     "metadata": {},
     "output_type": "execute_result"
    }
   ],
   "source": [
    "arr1"
   ]
  },
  {
   "cell_type": "code",
   "execution_count": 7,
   "id": "a07f6a78-6f27-4bd8-ac89-16cbd730c53d",
   "metadata": {},
   "outputs": [],
   "source": [
    "arr2=np.array([[10,20,30,40,50],[60,70,80,90,100]])"
   ]
  },
  {
   "cell_type": "code",
   "execution_count": 8,
   "id": "1f27d9ed-42e7-48e2-adec-58c2862aade0",
   "metadata": {},
   "outputs": [
    {
     "data": {
      "text/plain": [
       "array([[ 10,  20,  30,  40,  50],\n",
       "       [ 60,  70,  80,  90, 100]])"
      ]
     },
     "execution_count": 8,
     "metadata": {},
     "output_type": "execute_result"
    }
   ],
   "source": [
    "arr2"
   ]
  },
  {
   "cell_type": "code",
   "execution_count": 9,
   "id": "305239b3-d0c6-4644-9e64-0436e6c3d6fc",
   "metadata": {},
   "outputs": [],
   "source": [
    "arr3=np.array([[10,20,30,40,50],[60,70,80,90,100],[15,25,35,45,55]])"
   ]
  },
  {
   "cell_type": "code",
   "execution_count": 10,
   "id": "59675607-d112-4979-baeb-4b801e21db13",
   "metadata": {},
   "outputs": [
    {
     "data": {
      "text/plain": [
       "array([[ 10,  20,  30,  40,  50],\n",
       "       [ 60,  70,  80,  90, 100],\n",
       "       [ 15,  25,  35,  45,  55]])"
      ]
     },
     "execution_count": 10,
     "metadata": {},
     "output_type": "execute_result"
    }
   ],
   "source": [
    "arr3"
   ]
  },
  {
   "cell_type": "code",
   "execution_count": 11,
   "id": "08f4299f-ddbc-4979-97f8-6ca21e2a1913",
   "metadata": {},
   "outputs": [
    {
     "name": "stdout",
     "output_type": "stream",
     "text": [
      "Zeros Array:\n",
      " [[0. 0. 0.]\n",
      " [0. 0. 0.]]\n",
      "Ones Array:\n",
      " [[1. 1. 1.]\n",
      " [1. 1. 1.]\n",
      " [1. 1. 1.]]\n",
      "Identity Matrix:\n",
      " [[1. 0. 0.]\n",
      " [0. 1. 0.]\n",
      " [0. 0. 1.]]\n",
      "Array with np.arange:\n",
      " [0 2 4 6 8]\n",
      "Array with np.linspace:\n",
      " [0.   0.25 0.5  0.75 1.  ]\n"
     ]
    }
   ],
   "source": [
    "# Array of zeros\n",
    "zeros_arr = np.zeros((2, 3))\n",
    "print(\"Zeros Array:\\n\", zeros_arr)\n",
    "\n",
    "# Array of ones\n",
    "ones_arr = np.ones((3, 3))\n",
    "print(\"Ones Array:\\n\", ones_arr)\n",
    "\n",
    "# Identity matrix\n",
    "identity_arr = np.eye(3)\n",
    "print(\"Identity Matrix:\\n\", identity_arr)\n",
    "\n",
    "# Range of numbers\n",
    "range_arr = np.arange(0, 10, 2)\n",
    "print(\"Array with np.arange:\\n\", range_arr)\n",
    "\n",
    "# Evenly spaced values\n",
    "linspace_arr = np.linspace(0, 1, 5)\n",
    "print(\"Array with np.linspace:\\n\", linspace_arr)"
   ]
  },
  {
   "cell_type": "code",
   "execution_count": 13,
   "id": "ff41f008-5b89-4ea4-89db-30eb087fe624",
   "metadata": {},
   "outputs": [
    {
     "name": "stdout",
     "output_type": "stream",
     "text": [
      "Shape of arr2d: (2, 5)\n",
      "Size of arr2d: 10\n",
      "Data type of arr2d: int64\n"
     ]
    }
   ],
   "source": [
    "print(\"Shape of arr2d:\", arr2.shape)\n",
    "print(\"Size of arr2d:\", arr2.size)\n",
    "print(\"Data type of arr2d:\", arr2.dtype)"
   ]
  },
  {
   "cell_type": "code",
   "execution_count": 16,
   "id": "60ea2d7d-af38-4789-b4a7-5777ec11a1cd",
   "metadata": {},
   "outputs": [
    {
     "name": "stdout",
     "output_type": "stream",
     "text": [
      "Reshaped Array:\n",
      " [[ 10  20  30  40  50]\n",
      " [ 60  70  80  90 100]]\n",
      "First row of arr2d: [10 20 30 40 50]\n",
      "Element at row 1, col 2: 80\n"
     ]
    }
   ],
   "source": [
    "reshaped = arr2.reshape(2, 5)\n",
    "print(\"Reshaped Array:\\n\", reshaped)\n",
    "\n",
    "# Slicing\n",
    "print(\"First row of arr2d:\", arr2[0])\n",
    "print(\"Element at row 1, col 2:\", arr2[1, 2])"
   ]
  },
  {
   "cell_type": "code",
   "execution_count": 17,
   "id": "299aaac5-5971-4abd-930c-75df111c093f",
   "metadata": {},
   "outputs": [
    {
     "name": "stdout",
     "output_type": "stream",
     "text": [
      "Addition: [5 7 9]\n",
      "Multiplication: [ 4 10 18]\n",
      "Square root: [1.         1.41421356 1.73205081]\n"
     ]
    }
   ],
   "source": [
    "a = np.array([1, 2, 3])\n",
    "b = np.array([4, 5, 6])\n",
    "\n",
    "print(\"Addition:\", a + b)\n",
    "print(\"Multiplication:\", a * b)\n",
    "print(\"Square root:\", np.sqrt(a))"
   ]
  },
  {
   "cell_type": "markdown",
   "id": "d84e7147-d07d-41ef-86b8-f1e1be9c166f",
   "metadata": {},
   "source": [
    "# Conclusion :\n",
    "                The experiment successfully demonstrated the creation and manipulation of 1D, 2D, and multi-dimensional arrays, which are fundamental structures in data science and statistics. Mastery of these array types is essential for efficient data handling, analysis, and computational operations."
   ]
  },
  {
   "cell_type": "code",
   "execution_count": null,
   "id": "afda63d4-ff66-4796-927b-dc98f1c88796",
   "metadata": {},
   "outputs": [],
   "source": []
  }
 ],
 "metadata": {
  "kernelspec": {
   "display_name": "Python 3 (ipykernel)",
   "language": "python",
   "name": "python3"
  },
  "language_info": {
   "codemirror_mode": {
    "name": "ipython",
    "version": 3
   },
   "file_extension": ".py",
   "mimetype": "text/x-python",
   "name": "python",
   "nbconvert_exporter": "python",
   "pygments_lexer": "ipython3",
   "version": "3.13.5"
  }
 },
 "nbformat": 4,
 "nbformat_minor": 5
}
