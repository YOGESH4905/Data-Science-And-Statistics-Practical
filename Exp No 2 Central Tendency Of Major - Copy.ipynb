{
 "cells": [
  {
   "cell_type": "code",
   "execution_count": null,
   "id": "ad1db674-00e7-445a-8c30-d76c24347c37",
   "metadata": {},
   "outputs": [],
   "source": [
    "#Exp no,:2"
   ]
  },
  {
   "cell_type": "code",
   "execution_count": null,
   "id": "48ee92aa-f6e8-4d7d-94c7-265d0f499d77",
   "metadata": {},
   "outputs": [],
   "source": [
    "Aim :To Find Central Tendency Of Major (mean,median,mode)"
   ]
  },
  {
   "cell_type": "code",
   "execution_count": null,
   "id": "1da50c82-af4b-4695-abad-38998222eaa8",
   "metadata": {},
   "outputs": [],
   "source": [
    "#Name:Yogesh Suresh Mamankar\n",
    "#Roll No:37\n",
    "#Sec:B\n",
    "#Subject:ET1\n",
    "#Date:31/07/2025"
   ]
  },
  {
   "cell_type": "code",
   "execution_count": 2,
   "id": "20f75d04-c38c-41b5-9ac0-502a52a1fe81",
   "metadata": {},
   "outputs": [],
   "source": [
    "age=[22,21,20,20,21,21,22,22,22,21,22]"
   ]
  },
  {
   "cell_type": "code",
   "execution_count": 3,
   "id": "f9679dc8-b5ea-4e98-af61-dce70887f6f9",
   "metadata": {},
   "outputs": [
    {
     "data": {
      "text/plain": [
       "[22, 21, 20, 20, 21, 21, 22, 22, 22, 21, 22]"
      ]
     },
     "execution_count": 3,
     "metadata": {},
     "output_type": "execute_result"
    }
   ],
   "source": [
    "age"
   ]
  },
  {
   "cell_type": "code",
   "execution_count": 4,
   "id": "2b8ef700-6708-47e4-adef-9138446c5b9b",
   "metadata": {},
   "outputs": [],
   "source": [
    "import  statistics"
   ]
  },
  {
   "cell_type": "code",
   "execution_count": 5,
   "id": "bfa481c7-81d7-4fc6-b258-af0ca8691206",
   "metadata": {},
   "outputs": [],
   "source": [
    "a=statistics.mean(age)"
   ]
  },
  {
   "cell_type": "code",
   "execution_count": 6,
   "id": "49b563bb-fc69-40c3-b6fe-a51a0094a663",
   "metadata": {},
   "outputs": [
    {
     "data": {
      "text/plain": [
       "21.272727272727273"
      ]
     },
     "execution_count": 6,
     "metadata": {},
     "output_type": "execute_result"
    }
   ],
   "source": [
    "a"
   ]
  },
  {
   "cell_type": "code",
   "execution_count": 7,
   "id": "95f1dfe2-34eb-49a2-a064-2d297fc82bdc",
   "metadata": {},
   "outputs": [],
   "source": [
    "b=statistics.mode(age)"
   ]
  },
  {
   "cell_type": "code",
   "execution_count": 8,
   "id": "ab664c6d-a07a-4aff-980d-eb14fd1b5de5",
   "metadata": {},
   "outputs": [
    {
     "data": {
      "text/plain": [
       "22"
      ]
     },
     "execution_count": 8,
     "metadata": {},
     "output_type": "execute_result"
    }
   ],
   "source": [
    "b"
   ]
  },
  {
   "cell_type": "code",
   "execution_count": 9,
   "id": "61af7710-4443-43ac-b3c2-a52e2524840d",
   "metadata": {},
   "outputs": [],
   "source": [
    "c=statistics.median(age)"
   ]
  },
  {
   "cell_type": "code",
   "execution_count": 10,
   "id": "5fc1fdbb-30af-466a-b34d-03cb2d330036",
   "metadata": {},
   "outputs": [
    {
     "data": {
      "text/plain": [
       "21"
      ]
     },
     "execution_count": 10,
     "metadata": {},
     "output_type": "execute_result"
    }
   ],
   "source": [
    "c"
   ]
  },
  {
   "cell_type": "code",
   "execution_count": 11,
   "id": "7d84e621-8021-44e5-819a-abfbbe366f30",
   "metadata": {},
   "outputs": [],
   "source": [
    "import numpy as np\n",
    "x=np.array([1,2,3,4,5,6,7,8,9])"
   ]
  },
  {
   "cell_type": "code",
   "execution_count": 12,
   "id": "7893ddae-a310-4c61-abfb-5584c9a90161",
   "metadata": {},
   "outputs": [
    {
     "data": {
      "text/plain": [
       "array([1, 2, 3, 4, 5, 6, 7, 8, 9])"
      ]
     },
     "execution_count": 12,
     "metadata": {},
     "output_type": "execute_result"
    }
   ],
   "source": [
    "x"
   ]
  },
  {
   "cell_type": "code",
   "execution_count": 13,
   "id": "c7d2a15e-7a1b-4f4a-8da6-7f861dff9398",
   "metadata": {},
   "outputs": [
    {
     "name": "stdout",
     "output_type": "stream",
     "text": [
      "5.0\n"
     ]
    }
   ],
   "source": [
    "print(np.mean(x))"
   ]
  },
  {
   "cell_type": "code",
   "execution_count": 14,
   "id": "f4e325b5-22cd-4e2c-9309-b78dbaa32715",
   "metadata": {},
   "outputs": [
    {
     "name": "stdout",
     "output_type": "stream",
     "text": [
      "5.0\n"
     ]
    }
   ],
   "source": [
    "print(np.median(x))"
   ]
  },
  {
   "cell_type": "code",
   "execution_count": 15,
   "id": "f969d890-e655-46b3-a703-70032a382c6d",
   "metadata": {},
   "outputs": [],
   "source": [
    "from scipy import stats"
   ]
  },
  {
   "cell_type": "code",
   "execution_count": 16,
   "id": "5d700d28-4d04-476c-a871-758be8a37e21",
   "metadata": {},
   "outputs": [
    {
     "name": "stdout",
     "output_type": "stream",
     "text": [
      "ModeResult(mode=np.int64(1), count=np.int64(1))\n"
     ]
    }
   ],
   "source": [
    "print(stats.mode(x))"
   ]
  },
  {
   "cell_type": "code",
   "execution_count": 17,
   "id": "378fb6e9-1b40-4fc1-872d-ec7cee7a2c03",
   "metadata": {},
   "outputs": [],
   "source": [
    "sd=stats.tstd(x)"
   ]
  },
  {
   "cell_type": "code",
   "execution_count": 18,
   "id": "794ebaa2-3361-4189-ab78-a46629876abb",
   "metadata": {},
   "outputs": [
    {
     "name": "stdout",
     "output_type": "stream",
     "text": [
      "Standard Deviation: 2.7386127875258306\n"
     ]
    }
   ],
   "source": [
    "print(\"Standard Deviation:\",sd)"
   ]
  },
  {
   "cell_type": "code",
   "execution_count": 19,
   "id": "114a1295-2860-4109-8431-3d3b37c83730",
   "metadata": {},
   "outputs": [],
   "source": [
    "std_var=stats.tstd(x)"
   ]
  },
  {
   "cell_type": "code",
   "execution_count": 20,
   "id": "ffb389a6-552c-458d-86d8-e1c35b9d5572",
   "metadata": {},
   "outputs": [
    {
     "name": "stdout",
     "output_type": "stream",
     "text": [
      "Standard Deviation: 2.7386127875258306\n"
     ]
    }
   ],
   "source": [
    "print(\"Standard Deviation:\",std_var)"
   ]
  },
  {
   "cell_type": "code",
   "execution_count": 21,
   "id": "5548ab99-f17d-4ad2-9762-79dc15cd1471",
   "metadata": {},
   "outputs": [],
   "source": [
    "std_var=stats.tvar(x)"
   ]
  },
  {
   "cell_type": "code",
   "execution_count": 22,
   "id": "36faddbd-715a-4bc9-8a06-7f43b0b453e7",
   "metadata": {},
   "outputs": [
    {
     "name": "stdout",
     "output_type": "stream",
     "text": [
      "Standard Variance: 7.5\n"
     ]
    }
   ],
   "source": [
    "print(\"Standard Variance:\",std_var)"
   ]
  },
  {
   "cell_type": "markdown",
   "id": "9c28ab06-f175-425a-9c6d-e188ded6964e",
   "metadata": {},
   "source": [
    "# Conclusion:"
   ]
  },
  {
   "cell_type": "markdown",
   "id": "7991e031-d097-4abe-a909-0c2e04ec8869",
   "metadata": {},
   "source": [
    "In this experiment, I have successfully calculated the mean, median, and mode of a given data array using Python libraries such as NumPy,  SciPy, and statistics. The results demonstrate how different libraries offer efficient and reliable methods for computing central tendency measures."
   ]
  },
  {
   "cell_type": "code",
   "execution_count": null,
   "id": "1a86f316-e4f5-4e75-b996-31e5be41406b",
   "metadata": {},
   "outputs": [],
   "source": []
  }
 ],
 "metadata": {
  "kernelspec": {
   "display_name": "Python 3 (ipykernel)",
   "language": "python",
   "name": "python3"
  },
  "language_info": {
   "codemirror_mode": {
    "name": "ipython",
    "version": 3
   },
   "file_extension": ".py",
   "mimetype": "text/x-python",
   "name": "python",
   "nbconvert_exporter": "python",
   "pygments_lexer": "ipython3",
   "version": "3.13.5"
  }
 },
 "nbformat": 4,
 "nbformat_minor": 5
}
