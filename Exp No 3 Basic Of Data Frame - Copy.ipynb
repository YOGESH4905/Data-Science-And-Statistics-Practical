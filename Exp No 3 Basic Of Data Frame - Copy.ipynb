{
 "cells": [
  {
   "cell_type": "code",
   "execution_count": null,
   "id": "1ef22db8-5265-4550-befe-e1fda3de8f5a",
   "metadata": {},
   "outputs": [],
   "source": [
    "#Exp no,:3"
   ]
  },
  {
   "cell_type": "code",
   "execution_count": null,
   "id": "d433f430-c45b-4747-bcfd-e88d220a3c81",
   "metadata": {},
   "outputs": [],
   "source": [
    "Aim : To Study Basic Of Data Frame"
   ]
  },
  {
   "cell_type": "code",
   "execution_count": null,
   "id": "f467a625-a729-4d49-ac9b-1f6b15b0f68e",
   "metadata": {},
   "outputs": [],
   "source": [
    "#Name:Yogesh Suresh Mamankar\n",
    "#Roll No:37\n",
    "#Sec:B\n",
    "#Subject:ET1\n",
    "#Date:07/08/2025"
   ]
  },
  {
   "cell_type": "markdown",
   "id": "30e071c6-85c3-4f7e-a933-933ff94399cf",
   "metadata": {},
   "source": [
    "# Creating Series"
   ]
  },
  {
   "cell_type": "code",
   "execution_count": 2,
   "id": "3c71cfbb-44fa-4973-bc79-537171d3d479",
   "metadata": {},
   "outputs": [],
   "source": [
    "import pandas as pd"
   ]
  },
  {
   "cell_type": "code",
   "execution_count": 3,
   "id": "5a08ea67-f9aa-417d-bf26-26db9f363704",
   "metadata": {},
   "outputs": [],
   "source": [
    "name=[\"yogesh\",\"sagar\",\"nikhil\",\"pratik\",\"jay\"]"
   ]
  },
  {
   "cell_type": "code",
   "execution_count": 4,
   "id": "ead61ac9-874f-49e8-9554-a08ef8768cf9",
   "metadata": {},
   "outputs": [
    {
     "data": {
      "text/plain": [
       "['yogesh', 'sagar', 'nikhil', 'pratik', 'jay']"
      ]
     },
     "execution_count": 4,
     "metadata": {},
     "output_type": "execute_result"
    }
   ],
   "source": [
    "name"
   ]
  },
  {
   "cell_type": "code",
   "execution_count": 6,
   "id": "616dab42-c7af-4196-b289-65134413f703",
   "metadata": {},
   "outputs": [
    {
     "name": "stdout",
     "output_type": "stream",
     "text": [
      "1    yogesh\n",
      "2     sagar\n",
      "3    nikhil\n",
      "4    pratik\n",
      "5       jay\n",
      "dtype: object\n"
     ]
    }
   ],
   "source": [
    "Roll_list=pd.Series(name,index=[1,2,3,4,5])\n",
    "print(Roll_list)"
   ]
  },
  {
   "cell_type": "markdown",
   "id": "481cd09f-2338-41b2-a6a2-45bbbcf5d965",
   "metadata": {},
   "source": [
    "# Creating a data frame"
   ]
  },
  {
   "cell_type": "code",
   "execution_count": 11,
   "id": "29d76fed-7bf7-4fa4-ab0f-79e37f8433ee",
   "metadata": {},
   "outputs": [],
   "source": [
    "df=pd.DataFrame([[19,18,20,26],[21,23,14,25],[18,23,19,24]],\n",
    "columns= [\"CD\",\"DBMS\",\"DSS\",\"CAO\"])"
   ]
  },
  {
   "cell_type": "code",
   "execution_count": 12,
   "id": "fe8f6636-b770-4ec6-b3c8-a8bc67bc63ad",
   "metadata": {},
   "outputs": [
    {
     "data": {
      "text/html": [
       "<div>\n",
       "<style scoped>\n",
       "    .dataframe tbody tr th:only-of-type {\n",
       "        vertical-align: middle;\n",
       "    }\n",
       "\n",
       "    .dataframe tbody tr th {\n",
       "        vertical-align: top;\n",
       "    }\n",
       "\n",
       "    .dataframe thead th {\n",
       "        text-align: right;\n",
       "    }\n",
       "</style>\n",
       "<table border=\"1\" class=\"dataframe\">\n",
       "  <thead>\n",
       "    <tr style=\"text-align: right;\">\n",
       "      <th></th>\n",
       "      <th>CD</th>\n",
       "      <th>DBMS</th>\n",
       "      <th>DSS</th>\n",
       "      <th>CAO</th>\n",
       "    </tr>\n",
       "  </thead>\n",
       "  <tbody>\n",
       "    <tr>\n",
       "      <th>0</th>\n",
       "      <td>19</td>\n",
       "      <td>18</td>\n",
       "      <td>20</td>\n",
       "      <td>26</td>\n",
       "    </tr>\n",
       "    <tr>\n",
       "      <th>1</th>\n",
       "      <td>21</td>\n",
       "      <td>23</td>\n",
       "      <td>14</td>\n",
       "      <td>25</td>\n",
       "    </tr>\n",
       "    <tr>\n",
       "      <th>2</th>\n",
       "      <td>18</td>\n",
       "      <td>23</td>\n",
       "      <td>19</td>\n",
       "      <td>24</td>\n",
       "    </tr>\n",
       "  </tbody>\n",
       "</table>\n",
       "</div>"
      ],
      "text/plain": [
       "   CD  DBMS  DSS  CAO\n",
       "0  19    18   20   26\n",
       "1  21    23   14   25\n",
       "2  18    23   19   24"
      ]
     },
     "execution_count": 12,
     "metadata": {},
     "output_type": "execute_result"
    }
   ],
   "source": [
    "df"
   ]
  },
  {
   "cell_type": "code",
   "execution_count": 13,
   "id": "f82ccecb-48af-4152-836c-55da2cb6bdd3",
   "metadata": {},
   "outputs": [
    {
     "data": {
      "text/plain": [
       "(3, 4)"
      ]
     },
     "execution_count": 13,
     "metadata": {},
     "output_type": "execute_result"
    }
   ],
   "source": [
    "df.shape"
   ]
  },
  {
   "cell_type": "code",
   "execution_count": 14,
   "id": "2d6b1881-af1c-4a8c-944c-b038999945a0",
   "metadata": {},
   "outputs": [
    {
     "data": {
      "text/plain": [
       "12"
      ]
     },
     "execution_count": 14,
     "metadata": {},
     "output_type": "execute_result"
    }
   ],
   "source": [
    "df.size"
   ]
  },
  {
   "cell_type": "code",
   "execution_count": 15,
   "id": "775a78d1-f493-4ca5-af6b-3ce37c27b6ab",
   "metadata": {},
   "outputs": [
    {
     "data": {
      "text/plain": [
       "2"
      ]
     },
     "execution_count": 15,
     "metadata": {},
     "output_type": "execute_result"
    }
   ],
   "source": [
    "df.ndim"
   ]
  },
  {
   "cell_type": "markdown",
   "id": "bb122370-5940-4de5-9a84-0bc5e12f5807",
   "metadata": {},
   "source": [
    "# Adding Record (Row) to Data Frame"
   ]
  },
  {
   "cell_type": "code",
   "execution_count": 18,
   "id": "3dec5ad5-b7c3-4cf1-acc9-fdda8471659e",
   "metadata": {},
   "outputs": [],
   "source": [
    "df2=pd.DataFrame([[19,18,20,26]],\n",
    "columns= [\"CD\",\"DBMS\",\"DSS\",\"CAO\"])"
   ]
  },
  {
   "cell_type": "code",
   "execution_count": 37,
   "id": "5651f14c-6ee7-4d5a-b773-965bc602c6f9",
   "metadata": {},
   "outputs": [],
   "source": [
    "df3=pd.concat([df,df2,df3],ignore_index=True)"
   ]
  },
  {
   "cell_type": "code",
   "execution_count": 39,
   "id": "84773964-3dbe-4453-bd30-2f321c4745b9",
   "metadata": {},
   "outputs": [
    {
     "data": {
      "text/html": [
       "<div>\n",
       "<style scoped>\n",
       "    .dataframe tbody tr th:only-of-type {\n",
       "        vertical-align: middle;\n",
       "    }\n",
       "\n",
       "    .dataframe tbody tr th {\n",
       "        vertical-align: top;\n",
       "    }\n",
       "\n",
       "    .dataframe thead th {\n",
       "        text-align: right;\n",
       "    }\n",
       "</style>\n",
       "<table border=\"1\" class=\"dataframe\">\n",
       "  <thead>\n",
       "    <tr style=\"text-align: right;\">\n",
       "      <th></th>\n",
       "      <th>CD</th>\n",
       "      <th>DBMS</th>\n",
       "      <th>DSS</th>\n",
       "      <th>CAO</th>\n",
       "    </tr>\n",
       "  </thead>\n",
       "  <tbody>\n",
       "    <tr>\n",
       "      <th>0</th>\n",
       "      <td>19</td>\n",
       "      <td>18</td>\n",
       "      <td>20</td>\n",
       "      <td>26</td>\n",
       "    </tr>\n",
       "    <tr>\n",
       "      <th>1</th>\n",
       "      <td>19</td>\n",
       "      <td>18</td>\n",
       "      <td>20</td>\n",
       "      <td>26</td>\n",
       "    </tr>\n",
       "    <tr>\n",
       "      <th>2</th>\n",
       "      <td>19</td>\n",
       "      <td>18</td>\n",
       "      <td>20</td>\n",
       "      <td>26</td>\n",
       "    </tr>\n",
       "    <tr>\n",
       "      <th>3</th>\n",
       "      <td>19</td>\n",
       "      <td>18</td>\n",
       "      <td>20</td>\n",
       "      <td>26</td>\n",
       "    </tr>\n",
       "  </tbody>\n",
       "</table>\n",
       "</div>"
      ],
      "text/plain": [
       "   CD  DBMS  DSS  CAO\n",
       "0  19    18   20   26\n",
       "1  19    18   20   26\n",
       "2  19    18   20   26\n",
       "3  19    18   20   26"
      ]
     },
     "execution_count": 39,
     "metadata": {},
     "output_type": "execute_result"
    }
   ],
   "source": [
    "df3"
   ]
  },
  {
   "cell_type": "markdown",
   "id": "9d430a31-4e20-4f0c-a926-50b5b78b5095",
   "metadata": {},
   "source": [
    "# Adding attribute (Columns) to the Data Frame"
   ]
  },
  {
   "cell_type": "code",
   "execution_count": 42,
   "id": "16b1aece-cb30-448e-bf89-1b714a3a4f98",
   "metadata": {},
   "outputs": [],
   "source": [
    "df3[\"DM\"]=[23,11,22,12]"
   ]
  },
  {
   "cell_type": "code",
   "execution_count": 43,
   "id": "26071e2f-039d-4fe1-9ed9-7b028fe07391",
   "metadata": {},
   "outputs": [
    {
     "data": {
      "text/html": [
       "<div>\n",
       "<style scoped>\n",
       "    .dataframe tbody tr th:only-of-type {\n",
       "        vertical-align: middle;\n",
       "    }\n",
       "\n",
       "    .dataframe tbody tr th {\n",
       "        vertical-align: top;\n",
       "    }\n",
       "\n",
       "    .dataframe thead th {\n",
       "        text-align: right;\n",
       "    }\n",
       "</style>\n",
       "<table border=\"1\" class=\"dataframe\">\n",
       "  <thead>\n",
       "    <tr style=\"text-align: right;\">\n",
       "      <th></th>\n",
       "      <th>CD</th>\n",
       "      <th>DBMS</th>\n",
       "      <th>DSS</th>\n",
       "      <th>CAO</th>\n",
       "      <th>DM</th>\n",
       "    </tr>\n",
       "  </thead>\n",
       "  <tbody>\n",
       "    <tr>\n",
       "      <th>0</th>\n",
       "      <td>19</td>\n",
       "      <td>18</td>\n",
       "      <td>20</td>\n",
       "      <td>26</td>\n",
       "      <td>23</td>\n",
       "    </tr>\n",
       "    <tr>\n",
       "      <th>1</th>\n",
       "      <td>19</td>\n",
       "      <td>18</td>\n",
       "      <td>20</td>\n",
       "      <td>26</td>\n",
       "      <td>11</td>\n",
       "    </tr>\n",
       "    <tr>\n",
       "      <th>2</th>\n",
       "      <td>19</td>\n",
       "      <td>18</td>\n",
       "      <td>20</td>\n",
       "      <td>26</td>\n",
       "      <td>22</td>\n",
       "    </tr>\n",
       "    <tr>\n",
       "      <th>3</th>\n",
       "      <td>19</td>\n",
       "      <td>18</td>\n",
       "      <td>20</td>\n",
       "      <td>26</td>\n",
       "      <td>12</td>\n",
       "    </tr>\n",
       "  </tbody>\n",
       "</table>\n",
       "</div>"
      ],
      "text/plain": [
       "   CD  DBMS  DSS  CAO  DM\n",
       "0  19    18   20   26  23\n",
       "1  19    18   20   26  11\n",
       "2  19    18   20   26  22\n",
       "3  19    18   20   26  12"
      ]
     },
     "execution_count": 43,
     "metadata": {},
     "output_type": "execute_result"
    }
   ],
   "source": [
    "df3"
   ]
  },
  {
   "cell_type": "markdown",
   "id": "f8f3e547-e8f8-4cdf-b783-1f9517d2be0f",
   "metadata": {},
   "source": [
    "# Deleting record for df3 dataframe"
   ]
  },
  {
   "cell_type": "code",
   "execution_count": 44,
   "id": "f9bb6458-ecab-4c02-b96b-7009ed6eb8d4",
   "metadata": {},
   "outputs": [],
   "source": [
    "df4=df3.drop(index=[1])"
   ]
  },
  {
   "cell_type": "code",
   "execution_count": 45,
   "id": "6f98ad4b-ac97-4321-9be1-a1ac2c868da8",
   "metadata": {},
   "outputs": [
    {
     "data": {
      "text/html": [
       "<div>\n",
       "<style scoped>\n",
       "    .dataframe tbody tr th:only-of-type {\n",
       "        vertical-align: middle;\n",
       "    }\n",
       "\n",
       "    .dataframe tbody tr th {\n",
       "        vertical-align: top;\n",
       "    }\n",
       "\n",
       "    .dataframe thead th {\n",
       "        text-align: right;\n",
       "    }\n",
       "</style>\n",
       "<table border=\"1\" class=\"dataframe\">\n",
       "  <thead>\n",
       "    <tr style=\"text-align: right;\">\n",
       "      <th></th>\n",
       "      <th>CD</th>\n",
       "      <th>DBMS</th>\n",
       "      <th>DSS</th>\n",
       "      <th>CAO</th>\n",
       "      <th>DM</th>\n",
       "    </tr>\n",
       "  </thead>\n",
       "  <tbody>\n",
       "    <tr>\n",
       "      <th>0</th>\n",
       "      <td>19</td>\n",
       "      <td>18</td>\n",
       "      <td>20</td>\n",
       "      <td>26</td>\n",
       "      <td>23</td>\n",
       "    </tr>\n",
       "    <tr>\n",
       "      <th>2</th>\n",
       "      <td>19</td>\n",
       "      <td>18</td>\n",
       "      <td>20</td>\n",
       "      <td>26</td>\n",
       "      <td>22</td>\n",
       "    </tr>\n",
       "    <tr>\n",
       "      <th>3</th>\n",
       "      <td>19</td>\n",
       "      <td>18</td>\n",
       "      <td>20</td>\n",
       "      <td>26</td>\n",
       "      <td>12</td>\n",
       "    </tr>\n",
       "  </tbody>\n",
       "</table>\n",
       "</div>"
      ],
      "text/plain": [
       "   CD  DBMS  DSS  CAO  DM\n",
       "0  19    18   20   26  23\n",
       "2  19    18   20   26  22\n",
       "3  19    18   20   26  12"
      ]
     },
     "execution_count": 45,
     "metadata": {},
     "output_type": "execute_result"
    }
   ],
   "source": [
    "df4"
   ]
  },
  {
   "cell_type": "markdown",
   "id": "ce3352d4-1400-4bf3-9c36-ffbbab277d21",
   "metadata": {},
   "source": [
    "# Deleting Attribute (Columns) from df3 dataframe"
   ]
  },
  {
   "cell_type": "code",
   "execution_count": 46,
   "id": "810ee016-ca46-42a5-a40c-cf7f21166013",
   "metadata": {},
   "outputs": [],
   "source": [
    "df5=df3.drop(columns=[\"DM\"])"
   ]
  },
  {
   "cell_type": "code",
   "execution_count": 47,
   "id": "7f1edb9a-1d9a-460c-9191-3eac45f267a2",
   "metadata": {},
   "outputs": [
    {
     "data": {
      "text/html": [
       "<div>\n",
       "<style scoped>\n",
       "    .dataframe tbody tr th:only-of-type {\n",
       "        vertical-align: middle;\n",
       "    }\n",
       "\n",
       "    .dataframe tbody tr th {\n",
       "        vertical-align: top;\n",
       "    }\n",
       "\n",
       "    .dataframe thead th {\n",
       "        text-align: right;\n",
       "    }\n",
       "</style>\n",
       "<table border=\"1\" class=\"dataframe\">\n",
       "  <thead>\n",
       "    <tr style=\"text-align: right;\">\n",
       "      <th></th>\n",
       "      <th>CD</th>\n",
       "      <th>DBMS</th>\n",
       "      <th>DSS</th>\n",
       "      <th>CAO</th>\n",
       "    </tr>\n",
       "  </thead>\n",
       "  <tbody>\n",
       "    <tr>\n",
       "      <th>0</th>\n",
       "      <td>19</td>\n",
       "      <td>18</td>\n",
       "      <td>20</td>\n",
       "      <td>26</td>\n",
       "    </tr>\n",
       "    <tr>\n",
       "      <th>1</th>\n",
       "      <td>19</td>\n",
       "      <td>18</td>\n",
       "      <td>20</td>\n",
       "      <td>26</td>\n",
       "    </tr>\n",
       "    <tr>\n",
       "      <th>2</th>\n",
       "      <td>19</td>\n",
       "      <td>18</td>\n",
       "      <td>20</td>\n",
       "      <td>26</td>\n",
       "    </tr>\n",
       "    <tr>\n",
       "      <th>3</th>\n",
       "      <td>19</td>\n",
       "      <td>18</td>\n",
       "      <td>20</td>\n",
       "      <td>26</td>\n",
       "    </tr>\n",
       "  </tbody>\n",
       "</table>\n",
       "</div>"
      ],
      "text/plain": [
       "   CD  DBMS  DSS  CAO\n",
       "0  19    18   20   26\n",
       "1  19    18   20   26\n",
       "2  19    18   20   26\n",
       "3  19    18   20   26"
      ]
     },
     "execution_count": 47,
     "metadata": {},
     "output_type": "execute_result"
    }
   ],
   "source": [
    "df5"
   ]
  },
  {
   "cell_type": "code",
   "execution_count": 50,
   "id": "8d2dd34a-7842-42d4-854b-b741f6cb911d",
   "metadata": {},
   "outputs": [
    {
     "name": "stdout",
     "output_type": "stream",
     "text": [
      "Mean of DSS: 20.0\n"
     ]
    }
   ],
   "source": [
    "print(\"Mean of DSS:\",df5[\"DSS\"].mean())"
   ]
  },
  {
   "cell_type": "code",
   "execution_count": 51,
   "id": "6d5b9427-101c-4696-9803-5116d8713628",
   "metadata": {},
   "outputs": [
    {
     "name": "stdout",
     "output_type": "stream",
     "text": [
      "Mean of DSS: 20.0\n"
     ]
    }
   ],
   "source": [
    "print(\"Mean of DSS:\",df5[\"DSS\"].median())"
   ]
  },
  {
   "cell_type": "code",
   "execution_count": 52,
   "id": "88215711-9033-4d5e-8e82-bb16f5738b9e",
   "metadata": {},
   "outputs": [
    {
     "name": "stdout",
     "output_type": "stream",
     "text": [
      "Mean of DSS: 0    20\n",
      "Name: DSS, dtype: int64\n"
     ]
    }
   ],
   "source": [
    "print(\"Mean of DSS:\",df5[\"DSS\"].mode())"
   ]
  },
  {
   "cell_type": "markdown",
   "id": "4f262427-592f-45bb-8ee5-f36c6da7a693",
   "metadata": {},
   "source": [
    "# Conclusion:"
   ]
  },
  {
   "cell_type": "markdown",
   "id": "033791a1-84b3-4e2b-9403-ac141be86b0f",
   "metadata": {},
   "source": [
    "In this experiment, I have explored the basics of DataFrames by creating Series and DataFrames, adding records and attributes, and performing deletion operations. This helped in understanding the structure and dynamic manipulation capabilities of pandas DataFrames."
   ]
  },
  {
   "cell_type": "code",
   "execution_count": null,
   "id": "f0533951-7dcc-43fb-8d6b-d55155c91e65",
   "metadata": {},
   "outputs": [],
   "source": []
  }
 ],
 "metadata": {
  "kernelspec": {
   "display_name": "Python 3 (ipykernel)",
   "language": "python",
   "name": "python3"
  },
  "language_info": {
   "codemirror_mode": {
    "name": "ipython",
    "version": 3
   },
   "file_extension": ".py",
   "mimetype": "text/x-python",
   "name": "python",
   "nbconvert_exporter": "python",
   "pygments_lexer": "ipython3",
   "version": "3.13.5"
  }
 },
 "nbformat": 4,
 "nbformat_minor": 5
}
